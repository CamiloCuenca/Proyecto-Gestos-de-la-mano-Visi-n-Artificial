{
 "cells": [
  {
   "cell_type": "markdown",
   "metadata": {},
   "source": [
    "# Preprocesamiento Completo de Imágenes\n",
    "\n",
    "Este notebook implementa todas las técnicas de procesamiento de imágenes requeridas:\n",
    "\n",
    "## 1. Transformaciones Geométricas\n",
    "- Rotación\n",
    "- Escalado\n",
    "- Traslación\n",
    "- Transformación afín\n",
    "- Reflexión\n",
    "\n",
    "## 2. Ajuste de Contraste y Brillo\n",
    "- Ajuste lineal\n",
    "- Ecualización de histograma\n",
    "- CLAHE\n",
    "- Corrección gamma\n",
    "\n",
    "## 3. Filtros Espaciales\n",
    "- Gaussiano\n",
    "- Mediana\n",
    "- Bilateral\n",
    "- Nitidez\n",
    "- Laplaciano\n",
    "- Sobel\n",
    "- Unsharp masking\n",
    "\n",
    "## 4. Segmentación\n",
    "- Umbralización (simple, Otsu, adaptativa)\n",
    "- Watershed\n",
    "- K-means\n",
    "- GrabCut"
   ]
  },
  {
   "cell_type": "markdown",
   "metadata": {},
   "source": [
    "## Ejecutar todas las técnicas"
   ]
  },
  {
   "cell_type": "code",
   "execution_count": null,
   "metadata": {},
   "outputs": [],
   "source": [
    "# Ejecutar el script completo\n",
    "%run tecnicas_procesamiento.py"
   ]
  },
  {
   "cell_type": "markdown",
   "metadata": {},
   "source": [
    "## O ejecutar técnicas individuales"
   ]
  },
  {
   "cell_type": "code",
   "execution_count": null,
   "metadata": {},
   "outputs": [],
   "source": [
    "from tecnicas_procesamiento import transformaciones_geometricas, ajuste_contraste_brillo, filtros_espaciales, segmentacion_imagenes\n",
    "\n",
    "# Seleccionar una imagen\n",
    "imagen = 'data/inputs/mano-abierta.jpg'"
   ]
  },
  {
   "cell_type": "code",
   "execution_count": null,
   "metadata": {},
   "outputs": [],
   "source": [
    "# 1. Transformaciones geométricas\n",
    "transformaciones_geometricas(imagen)"
   ]
  },
  {
   "cell_type": "code",
   "execution_count": null,
   "metadata": {},
   "outputs": [],
   "source": [
    "# 2. Ajuste de contraste y brillo\n",
    "ajuste_contraste_brillo(imagen)"
   ]
  },
  {
   "cell_type": "code",
   "execution_count": null,
   "metadata": {},
   "outputs": [],
   "source": [
    "# 3. Filtros espaciales\n",
    "filtros_espaciales(imagen)"
   ]
  },
  {
   "cell_type": "code",
   "execution_count": null,
   "metadata": {},
   "outputs": [],
   "source": [
    "# 4. Segmentación\n",
    "segmentacion_imagenes(imagen)"
   ]
  },
  {
   "cell_type": "markdown",
   "metadata": {},
   "source": [
    "## Resultados\n",
    "\n",
    "Todas las imágenes procesadas se guardan en:\n",
    "- `data/procesadas/transformaciones/`\n",
    "- `data/procesadas/contraste_brillo/`\n",
    "- `data/procesadas/filtros_espaciales/`\n",
    "- `data/procesadas/segmentacion/`"
   ]
  }
 ],
 "metadata": {
  "kernelspec": {
   "display_name": "Python 3",
   "language": "python",
   "name": "python3"
  },
  "language_info": {
   "codemirror_mode": {
    "name": "ipython",
    "version": 3
   },
   "file_extension": ".py",
   "mimetype": "text/x-python",
   "name": "python",
   "nbconvert_exporter": "python",
   "pygments_lexer": "ipython3",
   "version": "3.8.0"
  }
 },
 "nbformat": 4,
 "nbformat_minor": 4
}
